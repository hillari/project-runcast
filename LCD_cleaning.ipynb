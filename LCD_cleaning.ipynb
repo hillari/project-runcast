{
 "cells": [
  {
   "cell_type": "code",
   "execution_count": 23,
   "metadata": {
    "collapsed": true,
    "pycharm": {
     "is_executing": false
    }
   },
   "outputs": [],
   "source": [
    "import pandas as pd\n",
    "import numpy as np"
   ]
  },
  {
   "cell_type": "code",
   "execution_count": 24,
   "outputs": [
    {
     "name": "stderr",
     "text": [
      "C:\\Users\\kjcro\\Anaconda3\\envs\\RuncastJupyter\\lib\\site-packages\\IPython\\core\\interactiveshell.py:3063: DtypeWarning: Columns (42,43,49) have mixed types.Specify dtype option on import or set low_memory=False.\n",
      "  interactivity=interactivity, compiler=compiler, result=result)\n",
      "C:\\Users\\kjcro\\Anaconda3\\envs\\RuncastJupyter\\lib\\site-packages\\ipykernel_launcher.py:7: SettingWithCopyWarning: \n",
      "A value is trying to be set on a copy of a slice from a DataFrame.\n",
      "Try using .loc[row_indexer,col_indexer] = value instead\n",
      "\n",
      "See the caveats in the documentation: https://pandas.pydata.org/pandas-docs/stable/user_guide/indexing.html#returning-a-view-versus-a-copy\n",
      "  import sys\n",
      "C:\\Users\\kjcro\\Anaconda3\\envs\\RuncastJupyter\\lib\\site-packages\\ipykernel_launcher.py:8: SettingWithCopyWarning: \n",
      "A value is trying to be set on a copy of a slice from a DataFrame.\n",
      "Try using .loc[row_indexer,col_indexer] = value instead\n",
      "\n",
      "See the caveats in the documentation: https://pandas.pydata.org/pandas-docs/stable/user_guide/indexing.html#returning-a-view-versus-a-copy\n",
      "  \n"
     ],
     "output_type": "stream"
    },
    {
     "data": {
      "text/plain": "      HourlyDryBulbTemperature\nyear                          \n1950                       114\n1951                       111\n1952                        89\n1953                       102\n1954                       115\n1955                       115\n1956                       124\n1957                        78\n1958                        87\n1959                       110",
      "text/html": "<div>\n<style scoped>\n    .dataframe tbody tr th:only-of-type {\n        vertical-align: middle;\n    }\n\n    .dataframe tbody tr th {\n        vertical-align: top;\n    }\n\n    .dataframe thead th {\n        text-align: right;\n    }\n</style>\n<table border=\"1\" class=\"dataframe\">\n  <thead>\n    <tr style=\"text-align: right;\">\n      <th></th>\n      <th>HourlyDryBulbTemperature</th>\n    </tr>\n    <tr>\n      <th>year</th>\n      <th></th>\n    </tr>\n  </thead>\n  <tbody>\n    <tr>\n      <th>1950</th>\n      <td>114</td>\n    </tr>\n    <tr>\n      <th>1951</th>\n      <td>111</td>\n    </tr>\n    <tr>\n      <th>1952</th>\n      <td>89</td>\n    </tr>\n    <tr>\n      <th>1953</th>\n      <td>102</td>\n    </tr>\n    <tr>\n      <th>1954</th>\n      <td>115</td>\n    </tr>\n    <tr>\n      <th>1955</th>\n      <td>115</td>\n    </tr>\n    <tr>\n      <th>1956</th>\n      <td>124</td>\n    </tr>\n    <tr>\n      <th>1957</th>\n      <td>78</td>\n    </tr>\n    <tr>\n      <th>1958</th>\n      <td>87</td>\n    </tr>\n    <tr>\n      <th>1959</th>\n      <td>110</td>\n    </tr>\n  </tbody>\n</table>\n</div>"
     },
     "metadata": {},
     "output_type": "execute_result",
     "execution_count": 24
    }
   ],
   "source": [
    "data_i_want = ['year', 'month', 'day', 'HourlyDryBulbTemperature']\n",
    "start_years = ['1950', '1960', '1973', '1980', '1990' ]\n",
    "data = pd.read_csv(\"KenaiAirportLCD_1950-01-01-1959-12-31.csv\")\n",
    "data['DATE'] = pd.to_datetime(data['DATE'])\n",
    "data['year'], data['month'], data['day'] = data['DATE'].dt.year, data['DATE'].dt.month, data['DATE'].dt.day\n",
    "temps = data[data_i_want]\n",
    "temps['HourlyDryBulbTemperature'] = temps['HourlyDryBulbTemperature'].map(lambda x: str(x).rstrip('s'))\n",
    "temps['HourlyDryBulbTemperature'] = temps['HourlyDryBulbTemperature'].astype(float)\n",
    "temps.fillna(0)\n",
    "daily_temp_max = temps.groupby(['year','month','day']).max()\n",
    "daily_temp_max[(daily_temp_max['HourlyDryBulbTemperature'] < 32)].groupby('year').count()\n"
   ],
   "metadata": {
    "collapsed": false,
    "pycharm": {
     "name": "#%%\n",
     "is_executing": false
    }
   }
  }
 ],
 "metadata": {
  "kernelspec": {
   "name": "pycharm-924b1630",
   "language": "python",
   "display_name": "PyCharm (RuncastJupyter)"
  },
  "language_info": {
   "codemirror_mode": {
    "name": "ipython",
    "version": 2
   },
   "file_extension": ".py",
   "mimetype": "text/x-python",
   "name": "python",
   "nbconvert_exporter": "python",
   "pygments_lexer": "ipython2",
   "version": "2.7.6"
  },
  "pycharm": {
   "stem_cell": {
    "cell_type": "raw",
    "source": [],
    "metadata": {
     "collapsed": false
    }
   }
  }
 },
 "nbformat": 4,
 "nbformat_minor": 0
}