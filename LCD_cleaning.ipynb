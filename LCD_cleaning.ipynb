{
 "cells": [
  {
   "cell_type": "code",
   "execution_count": 95,
   "metadata": {
    "collapsed": true,
    "pycharm": {
     "is_executing": false
    }
   },
   "outputs": [],
   "source": [
    "import pandas as pd\n",
    "import numpy as np"
   ]
  },
  {
   "cell_type": "code",
   "execution_count": 96,
   "outputs": [
    {
     "name": "stdout",
     "text": [
      "Processing KenaiAirportLCD_1950-01-01-1959-12-31.csv...\n",
      "Processing KenaiAirportLCD_1960-01-01-1969-12-31.csv...\n",
      "Processing KenaiAirportLCD_1973-01-01-1979-12-31.csv...\n",
      "Processing KenaiAirportLCD_1980-01-01-1989-12-31.csv...\n",
      "Processing KenaiAirportLCD_1990-01-01-1999-12-31.csv...\n",
      "Processing KenaiAirportLCD_2000-01-01-2009-12-31.csv...\n",
      "Processing KenaiAirportLCD_2010-01-01-2019-12-31.csv...\n"
     ],
     "output_type": "stream"
    },
    {
     "name": "stderr",
     "text": [
      "C:\\Users\\kjcro\\Anaconda3\\envs\\RuncastJupyter\\lib\\site-packages\\IPython\\core\\interactiveshell.py:3063: DtypeWarning: Columns (42,43,49) have mixed types.Specify dtype option on import or set low_memory=False.\n",
      "  interactivity=interactivity, compiler=compiler, result=result)\n",
      "C:\\Users\\kjcro\\Anaconda3\\envs\\RuncastJupyter\\lib\\site-packages\\IPython\\core\\interactiveshell.py:3063: DtypeWarning: Columns (43,49,51) have mixed types.Specify dtype option on import or set low_memory=False.\n",
      "  interactivity=interactivity, compiler=compiler, result=result)\n",
      "C:\\Users\\kjcro\\Anaconda3\\envs\\RuncastJupyter\\lib\\site-packages\\IPython\\core\\interactiveshell.py:3063: DtypeWarning: Columns (43,49,50,51,56) have mixed types.Specify dtype option on import or set low_memory=False.\n",
      "  interactivity=interactivity, compiler=compiler, result=result)\n",
      "C:\\Users\\kjcro\\Anaconda3\\envs\\RuncastJupyter\\lib\\site-packages\\IPython\\core\\interactiveshell.py:3063: DtypeWarning: Columns (41,42,43,46,49,56) have mixed types.Specify dtype option on import or set low_memory=False.\n",
      "  interactivity=interactivity, compiler=compiler, result=result)\n",
      "C:\\Users\\kjcro\\Anaconda3\\envs\\RuncastJupyter\\lib\\site-packages\\IPython\\core\\interactiveshell.py:3063: DtypeWarning: Columns (3,19,25,26,27,28,29,31,32,33,34,36,37,41,42,43,44,46,49,50,52,54,58,61,63,69,71,72,88,95) have mixed types.Specify dtype option on import or set low_memory=False.\n",
      "  interactivity=interactivity, compiler=compiler, result=result)\n",
      "C:\\Users\\kjcro\\Anaconda3\\envs\\RuncastJupyter\\lib\\site-packages\\IPython\\core\\interactiveshell.py:3063: DtypeWarning: Columns (3,19,25,26,27,28,29,30,31,36,41,42,43,46,48,49,50,51,52,53,58,59,61,63,69,71,82,88,95,96,97,98,99,100,101,102,103,104,105,106,107,110,111,112,113,117,118,119) have mixed types.Specify dtype option on import or set low_memory=False.\n",
      "  interactivity=interactivity, compiler=compiler, result=result)\n",
      "C:\\Users\\kjcro\\Anaconda3\\envs\\RuncastJupyter\\lib\\site-packages\\IPython\\core\\interactiveshell.py:3063: DtypeWarning: Columns (3,30,31,32,41,42,43,49,51,54,58,60,64,68,69,71,72,81,85,88,95,96,97,98,99,100,101,102,103,104,105,106,107) have mixed types.Specify dtype option on import or set low_memory=False.\n",
      "  interactivity=interactivity, compiler=compiler, result=result)\n"
     ],
     "output_type": "stream"
    },
    {
     "data": {
      "text/plain": "      Days Below 32°F\nyear                 \n1950              114\n1951              111\n1952               89\n1953              102\n1954              115\n...               ...\n2015               78\n2016               62\n2017              117\n2018               79\n2019               59\n\n[67 rows x 1 columns]",
      "text/html": "<div>\n<style scoped>\n    .dataframe tbody tr th:only-of-type {\n        vertical-align: middle;\n    }\n\n    .dataframe tbody tr th {\n        vertical-align: top;\n    }\n\n    .dataframe thead th {\n        text-align: right;\n    }\n</style>\n<table border=\"1\" class=\"dataframe\">\n  <thead>\n    <tr style=\"text-align: right;\">\n      <th></th>\n      <th>Days Below 32°F</th>\n    </tr>\n    <tr>\n      <th>year</th>\n      <th></th>\n    </tr>\n  </thead>\n  <tbody>\n    <tr>\n      <th>1950</th>\n      <td>114</td>\n    </tr>\n    <tr>\n      <th>1951</th>\n      <td>111</td>\n    </tr>\n    <tr>\n      <th>1952</th>\n      <td>89</td>\n    </tr>\n    <tr>\n      <th>1953</th>\n      <td>102</td>\n    </tr>\n    <tr>\n      <th>1954</th>\n      <td>115</td>\n    </tr>\n    <tr>\n      <th>...</th>\n      <td>...</td>\n    </tr>\n    <tr>\n      <th>2015</th>\n      <td>78</td>\n    </tr>\n    <tr>\n      <th>2016</th>\n      <td>62</td>\n    </tr>\n    <tr>\n      <th>2017</th>\n      <td>117</td>\n    </tr>\n    <tr>\n      <th>2018</th>\n      <td>79</td>\n    </tr>\n    <tr>\n      <th>2019</th>\n      <td>59</td>\n    </tr>\n  </tbody>\n</table>\n<p>67 rows × 1 columns</p>\n</div>"
     },
     "metadata": {},
     "output_type": "execute_result",
     "execution_count": 96
    }
   ],
   "source": [
    "# columns we'll be focusing on\n",
    "data_i_want = ['year', 'month', 'day', 'HourlyDryBulbTemperature']\n",
    "\n",
    "# start and end years for processing each file\n",
    "start_years = ['1950', '1960', '1973', '1980', '1990', '2000', '2010']\n",
    "end_years = ['1959', '1969', '1979', '1989', '1999', '2009', '2019']\n",
    "\n",
    "# overall dataframes for concatenating each file's dataframe to\n",
    "days_below_32 = pd.DataFrame()\n",
    "winter_mean_temps = pd.DataFrame()\n",
    "summer_mean_temps = pd.DataFrame()\n",
    "\n",
    "for i in range(7):\n",
    "    # grabbing temperature data \n",
    "    print(\"Processing KenaiAirportLCD_{}-01-01-{}-12-31.csv...\".format(start_years[i], end_years[i]))\n",
    "    data = pd.read_csv(\"data/weather-data/KenaiAirportLCD_{}-01-01-{}-12-31.csv\".format(start_years[i], end_years[i]))\n",
    "    data['DATE'] = pd.to_datetime(data['DATE'])\n",
    "    data['year'], data['month'], data['day'] = data['DATE'].dt.year, data['DATE'].dt.month, data['DATE'].dt.day\n",
    "    temps = pd.DataFrame(data[data_i_want])\n",
    "    temps['HourlyDryBulbTemperature'] = temps['HourlyDryBulbTemperature'].map(lambda x: str(x).rstrip('s'))\n",
    "    \n",
    "    # some files have *'s listed in the HourlyDryBulbTemperature - we need to drop these entries\n",
    "    remove_star = temps[temps['HourlyDryBulbTemperature'] == '*'].index\n",
    "    temps.drop(remove_star, axis=0, inplace=True)\n",
    "    \n",
    "    # process the newly cleaned column as float for max calculation\n",
    "    temps['HourlyDryBulbTemperature'] = temps['HourlyDryBulbTemperature'].astype(float)\n",
    "    \n",
    "    # group by year/month/day and find the max temperature for that day\n",
    "    daily_temp_max = temps.groupby(['year','month','day']).max()\n",
    "    \n",
    "    # count the number of days that stayed below 32° all day\n",
    "    temp_count = daily_temp_max[(daily_temp_max['HourlyDryBulbTemperature'] < 32)].groupby('year').count()\n",
    "    \n",
    "    # concatenate the counted dataframe with the other dataframes from prior years\n",
    "    days_below_32 = pd.concat([days_below_32, temp_count])\n",
    "    \n",
    "    # grabbing mean temps for winter months by year and concatenating with other dataframes\n",
    "    winter_temps = temps[(temps['month'] == 12) | (temps['month'] == 1) | (temps['month'] == 2)]\n",
    "    winter_daily_means = winter_temps.groupby(['year', 'month', 'day']).mean()\n",
    "    winter_means = winter_daily_means.groupby(['year']).mean()\n",
    "    winter_mean_temps = pd.concat([winter_mean_temps, winter_means])\n",
    "    \n",
    "    # grabbing mean temps for summer months by year and concatenating with other dataframes\n",
    "    summer_temps = temps[(temps['month'] == 7) | (temps['month'] == 8) | (temps['month'] == 9)]\n",
    "    summer_daily_means = summer_temps.groupby(['year', 'month', 'day']).mean()\n",
    "    summer_means = summer_daily_means.groupby(['year']).mean()\n",
    "    summer_mean_temps = pd.concat([summer_mean_temps, summer_means])\n",
    "    \n",
    "days_below_32.rename(columns={'HourlyDryBulbTemperature' : \"Days Below 32°F\"}, inplace=True)\n",
    "days_below_32\n",
    "    "
   ],
   "metadata": {
    "collapsed": false,
    "pycharm": {
     "name": "#%%\n",
     "is_executing": false
    }
   }
  },
  {
   "cell_type": "code",
   "execution_count": 97,
   "outputs": [
    {
     "data": {
      "text/plain": "      Mean Winter Temperature (°F)\nyear                              \n1950                      7.642963\n1951                      9.632468\n1952                     14.560302\n1953                     17.038889\n1954                      6.057911\n...                            ...\n2015                     22.361202\n2016                     24.779725\n2017                     17.520558\n2018                     20.891987\n2019                     20.553075\n\n[67 rows x 1 columns]",
      "text/html": "<div>\n<style scoped>\n    .dataframe tbody tr th:only-of-type {\n        vertical-align: middle;\n    }\n\n    .dataframe tbody tr th {\n        vertical-align: top;\n    }\n\n    .dataframe thead th {\n        text-align: right;\n    }\n</style>\n<table border=\"1\" class=\"dataframe\">\n  <thead>\n    <tr style=\"text-align: right;\">\n      <th></th>\n      <th>Mean Winter Temperature (°F)</th>\n    </tr>\n    <tr>\n      <th>year</th>\n      <th></th>\n    </tr>\n  </thead>\n  <tbody>\n    <tr>\n      <th>1950</th>\n      <td>7.642963</td>\n    </tr>\n    <tr>\n      <th>1951</th>\n      <td>9.632468</td>\n    </tr>\n    <tr>\n      <th>1952</th>\n      <td>14.560302</td>\n    </tr>\n    <tr>\n      <th>1953</th>\n      <td>17.038889</td>\n    </tr>\n    <tr>\n      <th>1954</th>\n      <td>6.057911</td>\n    </tr>\n    <tr>\n      <th>...</th>\n      <td>...</td>\n    </tr>\n    <tr>\n      <th>2015</th>\n      <td>22.361202</td>\n    </tr>\n    <tr>\n      <th>2016</th>\n      <td>24.779725</td>\n    </tr>\n    <tr>\n      <th>2017</th>\n      <td>17.520558</td>\n    </tr>\n    <tr>\n      <th>2018</th>\n      <td>20.891987</td>\n    </tr>\n    <tr>\n      <th>2019</th>\n      <td>20.553075</td>\n    </tr>\n  </tbody>\n</table>\n<p>67 rows × 1 columns</p>\n</div>"
     },
     "metadata": {},
     "output_type": "execute_result",
     "execution_count": 97
    }
   ],
   "source": [
    "winter_mean_temps.rename(columns={'HourlyDryBulbTemperature' : 'Mean Winter Temperature (°F)'}, inplace=True)\n",
    "winter_mean_temps"
   ],
   "metadata": {
    "collapsed": false,
    "pycharm": {
     "name": "#%%\n",
     "is_executing": false
    }
   }
  },
  {
   "cell_type": "code",
   "execution_count": 98,
   "outputs": [
    {
     "data": {
      "text/plain": "      Mean Summer Temperature (°F)\nyear                              \n1950                     51.961957\n1951                     52.477808\n1952                     51.369565\n1953                     52.372736\n1954                     51.585598\n...                            ...\n2015                     52.331858\n2016                     54.925437\n2017                     53.201340\n2018                     53.660849\n2019                     55.847039\n\n[67 rows x 1 columns]",
      "text/html": "<div>\n<style scoped>\n    .dataframe tbody tr th:only-of-type {\n        vertical-align: middle;\n    }\n\n    .dataframe tbody tr th {\n        vertical-align: top;\n    }\n\n    .dataframe thead th {\n        text-align: right;\n    }\n</style>\n<table border=\"1\" class=\"dataframe\">\n  <thead>\n    <tr style=\"text-align: right;\">\n      <th></th>\n      <th>Mean Summer Temperature (°F)</th>\n    </tr>\n    <tr>\n      <th>year</th>\n      <th></th>\n    </tr>\n  </thead>\n  <tbody>\n    <tr>\n      <th>1950</th>\n      <td>51.961957</td>\n    </tr>\n    <tr>\n      <th>1951</th>\n      <td>52.477808</td>\n    </tr>\n    <tr>\n      <th>1952</th>\n      <td>51.369565</td>\n    </tr>\n    <tr>\n      <th>1953</th>\n      <td>52.372736</td>\n    </tr>\n    <tr>\n      <th>1954</th>\n      <td>51.585598</td>\n    </tr>\n    <tr>\n      <th>...</th>\n      <td>...</td>\n    </tr>\n    <tr>\n      <th>2015</th>\n      <td>52.331858</td>\n    </tr>\n    <tr>\n      <th>2016</th>\n      <td>54.925437</td>\n    </tr>\n    <tr>\n      <th>2017</th>\n      <td>53.201340</td>\n    </tr>\n    <tr>\n      <th>2018</th>\n      <td>53.660849</td>\n    </tr>\n    <tr>\n      <th>2019</th>\n      <td>55.847039</td>\n    </tr>\n  </tbody>\n</table>\n<p>67 rows × 1 columns</p>\n</div>"
     },
     "metadata": {},
     "output_type": "execute_result",
     "execution_count": 98
    }
   ],
   "source": [
    "summer_mean_temps.rename(columns={'HourlyDryBulbTemperature' : 'Mean Summer Temperature (°F)'}, inplace=True)\n",
    "summer_mean_temps"
   ],
   "metadata": {
    "collapsed": false,
    "pycharm": {
     "name": "#%%\n",
     "is_executing": false
    }
   }
  }
 ],
 "metadata": {
  "kernelspec": {
   "name": "pycharm-924b1630",
   "language": "python",
   "display_name": "PyCharm (RuncastJupyter)"
  },
  "language_info": {
   "codemirror_mode": {
    "name": "ipython",
    "version": 2
   },
   "file_extension": ".py",
   "mimetype": "text/x-python",
   "name": "python",
   "nbconvert_exporter": "python",
   "pygments_lexer": "ipython2",
   "version": "2.7.6"
  },
  "pycharm": {
   "stem_cell": {
    "cell_type": "raw",
    "source": [],
    "metadata": {
     "collapsed": false
    }
   }
  }
 },
 "nbformat": 4,
 "nbformat_minor": 0
}