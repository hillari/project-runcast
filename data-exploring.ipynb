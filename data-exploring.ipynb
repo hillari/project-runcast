{
 "cells": [
  {
   "cell_type": "code",
   "execution_count": 53,
   "metadata": {
    "collapsed": true,
    "pycharm": {
     "is_executing": false
    }
   },
   "outputs": [],
   "source": [
    "import pandas as pd\n",
    "import numpy as np"
   ]
  },
  {
   "cell_type": "code",
   "source": [
    "raw=pd.read_excel(\"data/raw-data/russian.xlsx\")\n",
    "\n",
    "# drop subsistence harvest since there's only a couple years worth of data\n",
    "data = raw.drop(['ER', 'LR'], axis = 1)\n",
    "data.head()"
   ],
   "metadata": {
    "collapsed": false,
    "pycharm": {
     "name": "#%%\n",
     "is_executing": false
    }
   },
   "execution_count": 58,
   "outputs": [
    {
     "data": {
      "text/plain": "   Year Effort  Sport ER  Sport LR  Escape ER  Escape LR  Local ER  Local LR  \\\n0  1962    ND     3408.0    1292.0    28980.0    19234.0   32388.0   20526.0   \n1  1963   7880    3670.0    1390.0    14380.0    51120.0   18050.0   52510.0   \n2  1964   5330    3550.0    2450.0    12700.0    46930.0   16250.0   49380.0   \n3  1965   9720   10030.0    2160.0    21514.0    21820.0   31544.0   23980.0   \n4  1966  18280   14950.0    7290.0    16658.0    34430.0   31608.0   41720.0   \n\n   total run  \n0    52914.0  \n1    70560.0  \n2    65630.0  \n3    55524.0  \n4    73328.0  ",
      "text/html": "<div>\n<style scoped>\n    .dataframe tbody tr th:only-of-type {\n        vertical-align: middle;\n    }\n\n    .dataframe tbody tr th {\n        vertical-align: top;\n    }\n\n    .dataframe thead th {\n        text-align: right;\n    }\n</style>\n<table border=\"1\" class=\"dataframe\">\n  <thead>\n    <tr style=\"text-align: right;\">\n      <th></th>\n      <th>Year</th>\n      <th>Effort</th>\n      <th>Sport ER</th>\n      <th>Sport LR</th>\n      <th>Escape ER</th>\n      <th>Escape LR</th>\n      <th>Local ER</th>\n      <th>Local LR</th>\n      <th>total run</th>\n    </tr>\n  </thead>\n  <tbody>\n    <tr>\n      <th>0</th>\n      <td>1962</td>\n      <td>ND</td>\n      <td>3408.0</td>\n      <td>1292.0</td>\n      <td>28980.0</td>\n      <td>19234.0</td>\n      <td>32388.0</td>\n      <td>20526.0</td>\n      <td>52914.0</td>\n    </tr>\n    <tr>\n      <th>1</th>\n      <td>1963</td>\n      <td>7880</td>\n      <td>3670.0</td>\n      <td>1390.0</td>\n      <td>14380.0</td>\n      <td>51120.0</td>\n      <td>18050.0</td>\n      <td>52510.0</td>\n      <td>70560.0</td>\n    </tr>\n    <tr>\n      <th>2</th>\n      <td>1964</td>\n      <td>5330</td>\n      <td>3550.0</td>\n      <td>2450.0</td>\n      <td>12700.0</td>\n      <td>46930.0</td>\n      <td>16250.0</td>\n      <td>49380.0</td>\n      <td>65630.0</td>\n    </tr>\n    <tr>\n      <th>3</th>\n      <td>1965</td>\n      <td>9720</td>\n      <td>10030.0</td>\n      <td>2160.0</td>\n      <td>21514.0</td>\n      <td>21820.0</td>\n      <td>31544.0</td>\n      <td>23980.0</td>\n      <td>55524.0</td>\n    </tr>\n    <tr>\n      <th>4</th>\n      <td>1966</td>\n      <td>18280</td>\n      <td>14950.0</td>\n      <td>7290.0</td>\n      <td>16658.0</td>\n      <td>34430.0</td>\n      <td>31608.0</td>\n      <td>41720.0</td>\n      <td>73328.0</td>\n    </tr>\n  </tbody>\n</table>\n</div>"
     },
     "metadata": {},
     "output_type": "execute_result",
     "execution_count": 58
    }
   ]
  },
  {
   "cell_type": "code",
   "source": [
    "totalrun = data[\"total run\"].describe()\n",
    "totalrun\n"
   ],
   "metadata": {
    "collapsed": false,
    "pycharm": {
     "name": "#%%\n",
     "is_executing": false
    }
   },
   "execution_count": 64,
   "outputs": [
    {
     "data": {
      "text/plain": "count        59.000000\nmean     140647.214451\nstd       65031.744582\nmin       38001.000000\n25%       82314.500000\n50%      140762.052632\n75%      187981.000000\nmax      310225.000000\nName: total run, dtype: float64"
     },
     "metadata": {},
     "output_type": "execute_result",
     "execution_count": 64
    }
   ]
  }
 ],
 "metadata": {
  "kernelspec": {
   "name": "pycharm-c25f9b63",
   "language": "python",
   "display_name": "PyCharm (project-runcast)"
  },
  "language_info": {
   "codemirror_mode": {
    "name": "ipython",
    "version": 2
   },
   "file_extension": ".py",
   "mimetype": "text/x-python",
   "name": "python",
   "nbconvert_exporter": "python",
   "pygments_lexer": "ipython2",
   "version": "2.7.6"
  },
  "pycharm": {
   "stem_cell": {
    "cell_type": "raw",
    "source": [],
    "metadata": {
     "collapsed": false
    }
   }
  }
 },
 "nbformat": 4,
 "nbformat_minor": 0
}