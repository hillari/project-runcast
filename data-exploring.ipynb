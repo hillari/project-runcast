{
 "cells": [
  {
   "cell_type": "code",
   "execution_count": 1,
   "metadata": {
    "collapsed": true,
    "pycharm": {
     "is_executing": false
    }
   },
   "outputs": [],
   "source": [
    "import pandas as pd\n",
    "import numpy as np"
   ]
  },
  {
   "cell_type": "code",
   "source": [
    "# --- Taking a look at the Russian River fish count data ---\n",
    "raw=pd.read_excel(\"data/raw-data/russian.xlsx\")\n",
    "\n",
    "# drop subsistence harvest since there's only a couple years worth of data\n",
    "data = raw.drop(['ER', 'LR'], axis = 1)\n",
    "data.head()"
   ],
   "metadata": {
    "collapsed": false,
    "pycharm": {
     "name": "#%%\n",
     "is_executing": false
    }
   },
   "execution_count": 29,
   "outputs": [
    {
     "data": {
      "text/plain": "   Year Effort  Sport ER  Sport LR  Escape ER  Escape LR  Local ER  Local LR  \\\n0  1962    ND     3408.0    1292.0    28980.0    19234.0   32388.0   20526.0   \n1  1963   7880    3670.0    1390.0    14380.0    51120.0   18050.0   52510.0   \n2  1964   5330    3550.0    2450.0    12700.0    46930.0   16250.0   49380.0   \n3  1965   9720   10030.0    2160.0    21514.0    21820.0   31544.0   23980.0   \n4  1966  18280   14950.0    7290.0    16658.0    34430.0   31608.0   41720.0   \n\n   total run  \n0    52914.0  \n1    70560.0  \n2    65630.0  \n3    55524.0  \n4    73328.0  ",
      "text/html": "<div>\n<style scoped>\n    .dataframe tbody tr th:only-of-type {\n        vertical-align: middle;\n    }\n\n    .dataframe tbody tr th {\n        vertical-align: top;\n    }\n\n    .dataframe thead th {\n        text-align: right;\n    }\n</style>\n<table border=\"1\" class=\"dataframe\">\n  <thead>\n    <tr style=\"text-align: right;\">\n      <th></th>\n      <th>Year</th>\n      <th>Effort</th>\n      <th>Sport ER</th>\n      <th>Sport LR</th>\n      <th>Escape ER</th>\n      <th>Escape LR</th>\n      <th>Local ER</th>\n      <th>Local LR</th>\n      <th>total run</th>\n    </tr>\n  </thead>\n  <tbody>\n    <tr>\n      <th>0</th>\n      <td>1962</td>\n      <td>ND</td>\n      <td>3408.0</td>\n      <td>1292.0</td>\n      <td>28980.0</td>\n      <td>19234.0</td>\n      <td>32388.0</td>\n      <td>20526.0</td>\n      <td>52914.0</td>\n    </tr>\n    <tr>\n      <th>1</th>\n      <td>1963</td>\n      <td>7880</td>\n      <td>3670.0</td>\n      <td>1390.0</td>\n      <td>14380.0</td>\n      <td>51120.0</td>\n      <td>18050.0</td>\n      <td>52510.0</td>\n      <td>70560.0</td>\n    </tr>\n    <tr>\n      <th>2</th>\n      <td>1964</td>\n      <td>5330</td>\n      <td>3550.0</td>\n      <td>2450.0</td>\n      <td>12700.0</td>\n      <td>46930.0</td>\n      <td>16250.0</td>\n      <td>49380.0</td>\n      <td>65630.0</td>\n    </tr>\n    <tr>\n      <th>3</th>\n      <td>1965</td>\n      <td>9720</td>\n      <td>10030.0</td>\n      <td>2160.0</td>\n      <td>21514.0</td>\n      <td>21820.0</td>\n      <td>31544.0</td>\n      <td>23980.0</td>\n      <td>55524.0</td>\n    </tr>\n    <tr>\n      <th>4</th>\n      <td>1966</td>\n      <td>18280</td>\n      <td>14950.0</td>\n      <td>7290.0</td>\n      <td>16658.0</td>\n      <td>34430.0</td>\n      <td>31608.0</td>\n      <td>41720.0</td>\n      <td>73328.0</td>\n    </tr>\n  </tbody>\n</table>\n</div>"
     },
     "metadata": {},
     "output_type": "execute_result",
     "execution_count": 29
    }
   ]
  },
  {
   "cell_type": "code",
   "source": [
    "totalrun = data[\"total run\"].describe()\n",
    "totalrun"
   ],
   "metadata": {
    "collapsed": false,
    "pycharm": {
     "name": "#%%\n",
     "is_executing": false
    }
   },
   "execution_count": 3,
   "outputs": [
    {
     "data": {
      "text/plain": "count        59.000000\nmean     140647.214451\nstd       65031.744582\nmin       38001.000000\n25%       82314.500000\n50%      140762.052632\n75%      187981.000000\nmax      310225.000000\nName: total run, dtype: float64"
     },
     "metadata": {},
     "output_type": "execute_result",
     "execution_count": 3
    }
   ]
  },
  {
   "cell_type": "code",
   "execution_count": 18,
   "outputs": [
    {
     "data": {
      "text/plain": "  agency_cd   site_no  measurement_nu       measurement_dt tz_cd  \\\n0      USGS  15266300               1  1965-05-03 23:00:00  AKST   \n1      USGS  15266300               2  1965-06-08 23:00:00  AKST   \n2      USGS  15266300               3  1965-07-21 23:00:00  AKST   \n3      USGS  15266300               4  1965-08-24 23:00:00  AKST   \n4      USGS  15266300               5  1965-09-23 23:00:00  AKST   \n\n  q_meas_used_fg party_nm site_visit_coll_agency_cd  gage_height_va  \\\n0            Yes  JTM/JPH                      USGS            5.88   \n1            Yes  SHJ/G C                      USGS            7.41   \n2            Yes      G C                      USGS            9.24   \n3            Yes  G C/L H                      USGS            8.68   \n4            Yes      G C                      USGS            9.67   \n\n   discharge_va measured_rating_diff  gage_va_change  gage_va_time  \\\n0          2340          Unspecified            0.01           0.8   \n1          6110                 Good            0.00           2.0   \n2         12100                 Fair           -0.01           2.0   \n3         10300                 Good           -0.01           2.2   \n4         16000                 Good           -0.02           2.0   \n\n  control_type_cd discharge_cd  \n0             NaN         NONE  \n1             NaN         NONE  \n2           Clear         NONE  \n3             NaN         NONE  \n4             NaN         NONE  ",
      "text/html": "<div>\n<style scoped>\n    .dataframe tbody tr th:only-of-type {\n        vertical-align: middle;\n    }\n\n    .dataframe tbody tr th {\n        vertical-align: top;\n    }\n\n    .dataframe thead th {\n        text-align: right;\n    }\n</style>\n<table border=\"1\" class=\"dataframe\">\n  <thead>\n    <tr style=\"text-align: right;\">\n      <th></th>\n      <th>agency_cd</th>\n      <th>site_no</th>\n      <th>measurement_nu</th>\n      <th>measurement_dt</th>\n      <th>tz_cd</th>\n      <th>q_meas_used_fg</th>\n      <th>party_nm</th>\n      <th>site_visit_coll_agency_cd</th>\n      <th>gage_height_va</th>\n      <th>discharge_va</th>\n      <th>measured_rating_diff</th>\n      <th>gage_va_change</th>\n      <th>gage_va_time</th>\n      <th>control_type_cd</th>\n      <th>discharge_cd</th>\n    </tr>\n  </thead>\n  <tbody>\n    <tr>\n      <th>0</th>\n      <td>USGS</td>\n      <td>15266300</td>\n      <td>1</td>\n      <td>1965-05-03 23:00:00</td>\n      <td>AKST</td>\n      <td>Yes</td>\n      <td>JTM/JPH</td>\n      <td>USGS</td>\n      <td>5.88</td>\n      <td>2340</td>\n      <td>Unspecified</td>\n      <td>0.01</td>\n      <td>0.8</td>\n      <td>NaN</td>\n      <td>NONE</td>\n    </tr>\n    <tr>\n      <th>1</th>\n      <td>USGS</td>\n      <td>15266300</td>\n      <td>2</td>\n      <td>1965-06-08 23:00:00</td>\n      <td>AKST</td>\n      <td>Yes</td>\n      <td>SHJ/G C</td>\n      <td>USGS</td>\n      <td>7.41</td>\n      <td>6110</td>\n      <td>Good</td>\n      <td>0.00</td>\n      <td>2.0</td>\n      <td>NaN</td>\n      <td>NONE</td>\n    </tr>\n    <tr>\n      <th>2</th>\n      <td>USGS</td>\n      <td>15266300</td>\n      <td>3</td>\n      <td>1965-07-21 23:00:00</td>\n      <td>AKST</td>\n      <td>Yes</td>\n      <td>G C</td>\n      <td>USGS</td>\n      <td>9.24</td>\n      <td>12100</td>\n      <td>Fair</td>\n      <td>-0.01</td>\n      <td>2.0</td>\n      <td>Clear</td>\n      <td>NONE</td>\n    </tr>\n    <tr>\n      <th>3</th>\n      <td>USGS</td>\n      <td>15266300</td>\n      <td>4</td>\n      <td>1965-08-24 23:00:00</td>\n      <td>AKST</td>\n      <td>Yes</td>\n      <td>G C/L H</td>\n      <td>USGS</td>\n      <td>8.68</td>\n      <td>10300</td>\n      <td>Good</td>\n      <td>-0.01</td>\n      <td>2.2</td>\n      <td>NaN</td>\n      <td>NONE</td>\n    </tr>\n    <tr>\n      <th>4</th>\n      <td>USGS</td>\n      <td>15266300</td>\n      <td>5</td>\n      <td>1965-09-23 23:00:00</td>\n      <td>AKST</td>\n      <td>Yes</td>\n      <td>G C</td>\n      <td>USGS</td>\n      <td>9.67</td>\n      <td>16000</td>\n      <td>Good</td>\n      <td>-0.02</td>\n      <td>2.0</td>\n      <td>NaN</td>\n      <td>NONE</td>\n    </tr>\n  </tbody>\n</table>\n</div>"
     },
     "metadata": {},
     "output_type": "execute_result",
     "execution_count": 18
    }
   ],
   "source": [
    "# ---- CFS and gage height for Soldotna (station ID- 15266300) ----\n",
    "\n",
    "#  This data contains CFS(\"discharge\"), gauge height(feet), measurement quality, conditions at time of measurement\n",
    "flowdfRAW = pd.read_csv(\"data/raw-data/surfaceWaterField-Soldotna\", sep='\\t', lineterminator='\\n')\n",
    "flowdfRAW.head()"
   ],
   "metadata": {
    "collapsed": false,
    "pycharm": {
     "name": "#%%\n",
     "is_executing": false
    }
   }
  },
  {
   "cell_type": "code",
   "execution_count": 28,
   "outputs": [
    {
     "data": {
      "text/plain": "['tz_cd',\n 'gage_height_va',\n 'gage_va_change',\n 'gage_va_time',\n 'control_type_cd']"
     },
     "metadata": {},
     "output_type": "execute_result",
     "execution_count": 28
    }
   ],
   "source": [
    "# get a list of all columns with nulls\n",
    "nanlist = [col for col in flowdfRAW.columns if flowdfRAW[col].isnull().any()]\n",
    "nanlist"
   ],
   "metadata": {
    "collapsed": false,
    "pycharm": {
     "name": "#%%\n",
     "is_executing": false
    }
   }
  },
  {
   "cell_type": "code",
   "execution_count": 31,
   "outputs": [
    {
     "data": {
      "text/plain": "measurement_dt           0\ngage_height_va          43\ndischarge_va             0\nmeasured_rating_diff     0\ncontrol_type_cd         47\ndtype: int64"
     },
     "metadata": {},
     "output_type": "execute_result",
     "execution_count": 31
    }
   ],
   "source": [
    "# drop the columns we don't want\n",
    "flowdf = flowdfRAW.drop(columns=['agency_cd','site_no','measurement_nu', 'tz_cd', 'q_meas_used_fg', 'party_nm', \n",
    "                                 'site_visit_coll_agency_cd', 'discharge_cd', 'gage_va_change', 'gage_va_time'])\n",
    "flowdf.isnull().sum()"
   ],
   "metadata": {
    "collapsed": false,
    "pycharm": {
     "name": "#%%\n",
     "is_executing": false
    }
   }
  },
  {
   "cell_type": "code",
   "execution_count": 34,
   "outputs": [
    {
     "data": {
      "text/plain": "date                       0\ngage_height(ft)           43\nCFS                        0\nmeasurement_quality        0\nmeasurement_conditions    47\ndtype: int64"
     },
     "metadata": {},
     "output_type": "execute_result",
     "execution_count": 34
    }
   ],
   "source": [
    "# rename the columns and check nulls \n",
    "new_col_names = ['date', 'gage_height(ft)', 'CFS', 'measurement_quality', 'measurement_conditions']\n",
    "flowdf.rename(columns=dict(zip(flowdf.columns, new_col_names)), inplace=True)\n",
    "flowdf.isnull().sum()\n"
   ],
   "metadata": {
    "collapsed": false,
    "pycharm": {
     "name": "#%%\n",
     "is_executing": false
    }
   }
  },
  {
   "cell_type": "code",
   "execution_count": 41,
   "outputs": [
    {
     "data": {
      "text/plain": "year\n1965    7\n1966    6\n1967    4\n1968    6\n1969    6\n1970    4\n1971    3\n1972    5\n1973    5\n1974    5\n1975    5\n1976    3\n1977    6\n1978    3\n1979    3\n1980    2\n1981    2\n1982    1\n1983    5\n1984    2\n1985    3\n1986    3\n1987    4\n1988    2\n1989    0\n1990    1\n1991    0\n1992    1\n1993    1\n1994    2\n1995    6\n1996    4\n1997    6\n1998    8\n1999    7\n2000    9\n2001    9\n2002    8\n2003    6\n2004    7\n2005    8\n2006    7\n2007    8\n2008    8\n2009    8\n2010    5\n2011    8\n2012    8\n2013    9\n2014    8\n2015    6\n2016    7\n2017    5\n2018    6\n2019    8\nName: gage_height(ft), dtype: int64"
     },
     "metadata": {},
     "output_type": "execute_result",
     "execution_count": 41
    }
   ],
   "source": [
    "# We must turn this column into pandas datetime. Here we also create two new columns for year and month, then we\n",
    "# see how many entries we have for gage height, per year\n",
    "flowdf['date'] = pd.to_datetime(flowdf['date'])\n",
    "flowdf['year'], flowdf['month'] = flowdf['date'].dt.year, flowdf['date'].dt.month\n",
    "flowdf.groupby('year')['gage_height(ft)'].count()\n"
   ],
   "metadata": {
    "collapsed": false,
    "pycharm": {
     "name": "#%%\n",
     "is_executing": false
    }
   }
  },
  {
   "cell_type": "code",
   "execution_count": 67,
   "outputs": [],
   "source": [
    "\n"
   ],
   "metadata": {
    "collapsed": false,
    "pycharm": {
     "name": "#%%\n",
     "is_executing": false
    }
   }
  }
 ],
 "metadata": {
  "kernelspec": {
   "name": "pycharm-c25f9b63",
   "language": "python",
   "display_name": "PyCharm (project-runcast)"
  },
  "language_info": {
   "codemirror_mode": {
    "name": "ipython",
    "version": 2
   },
   "file_extension": ".py",
   "mimetype": "text/x-python",
   "name": "python",
   "nbconvert_exporter": "python",
   "pygments_lexer": "ipython2",
   "version": "2.7.6"
  },
  "pycharm": {
   "stem_cell": {
    "cell_type": "raw",
    "source": [],
    "metadata": {
     "collapsed": false
    }
   }
  }
 },
 "nbformat": 4,
 "nbformat_minor": 0
}