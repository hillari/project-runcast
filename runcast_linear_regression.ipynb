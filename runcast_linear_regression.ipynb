{
 "cells": [
  {
   "cell_type": "code",
   "execution_count": 49,
   "metadata": {
    "collapsed": true,
    "pycharm": {
     "is_executing": false
    }
   },
   "outputs": [],
   "source": [
    "import numpy as np\n",
    "import pandas as pd\n",
    "from matplotlib import pyplot as plt\n",
    "from sklearn.model_selection import train_test_split, cross_val_score\n",
    "from sklearn.linear_model import LinearRegression, Ridge, Lasso\n",
    "\n",
    "# Loading results dataframes for use in linear regression modeling\n",
    "run_data = pd.read_csv(\"data/stream-data/raw-stream-data/russian.csv\", thousands=',')\n",
    "days_below_32 = pd.read_csv(\"data/weather-data/KenaiAirport_Days-Below-32F.csv\")\n",
    "summer_mean_temps = pd.read_csv(\"data/weather-data/KenaiAirport_Summer-Mean-Temps-Yearly.csv\")\n",
    "winter_mean_temps = pd.read_csv(\"data/weather-data/KenaiAirport_Winter-Mean-Temps-Yearly.csv\")\n",
    "input_data = pd.merge(left=days_below_32, right=summer_mean_temps, left_on='year', right_on='year')\n",
    "input_data = pd.merge(left=input_data, right=winter_mean_temps, left_on='year', right_on='year')"
   ]
  },
  {
   "cell_type": "markdown",
   "source": [
    "Now that we have our data loaded and the proper modules imported, let's process the Russian\n",
    "River run datafile to parse out our target output variables (run counts) as well as gather a \n",
    "few more potential input variables (effort counts or \"angler days\")."
   ],
   "metadata": {
    "collapsed": false,
    "pycharm": {
     "name": "#%% md\n"
    }
   }
  },
  {
   "cell_type": "code",
   "execution_count": 50,
   "outputs": [
    {
     "data": {
      "text/plain": "year                  int64\ndays_below_32         int64\nmean_summer_temp    float64\nmean_winter_temp    float64\nEffort                int32\nER Sport              int64\nLR Sport              int64\nER Local              int64\nLR Local              int64\nTotal Run             int64\ndtype: object"
     },
     "metadata": {},
     "output_type": "execute_result",
     "execution_count": 50
    }
   ],
   "source": [
    "drop_columns = ['ER  Escapement', 'LR Escapement', 'ER', 'LR']\n",
    "run_data.drop(columns=drop_columns, inplace=True)\n",
    "run_data.rename(columns={'Year' : 'year'}, inplace=True)\n",
    "# merge with the input_data frame\n",
    "model_data = pd.merge(left=input_data, right=run_data, left_on='year', right_on='year')\n",
    "# dropping the year with no Effort value\n",
    "model_data.drop(index=0, inplace=True)\n",
    "model_data['Effort'] = model_data['Effort'].str.replace(',', '').astype(int)\n",
    "\n"
   ],
   "metadata": {
    "collapsed": false,
    "pycharm": {
     "name": "#%%\n",
     "is_executing": false
    }
   }
  }
 ],
 "metadata": {
  "kernelspec": {
   "name": "pycharm-924b1630",
   "language": "python",
   "display_name": "PyCharm (RuncastJupyter)"
  },
  "language_info": {
   "codemirror_mode": {
    "name": "ipython",
    "version": 2
   },
   "file_extension": ".py",
   "mimetype": "text/x-python",
   "name": "python",
   "nbconvert_exporter": "python",
   "pygments_lexer": "ipython2",
   "version": "2.7.6"
  },
  "pycharm": {
   "stem_cell": {
    "cell_type": "raw",
    "source": [],
    "metadata": {
     "collapsed": false
    }
   }
  }
 },
 "nbformat": 4,
 "nbformat_minor": 0
}