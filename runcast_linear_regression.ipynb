{
 "cells": [
  {
   "cell_type": "code",
   "execution_count": 18,
   "metadata": {
    "collapsed": true,
    "pycharm": {
     "is_executing": false
    }
   },
   "outputs": [],
   "source": [
    "import numpy as np\n",
    "import pandas as pd\n",
    "from matplotlib import pyplot as plt\n",
    "from sklearn.model_selection import train_test_split, cross_val_score\n",
    "from sklearn.linear_model import LinearRegression, Ridge, Lasso\n",
    "\n",
    "# Loading results dataframes for use in linear regression modeling\n",
    "run_data = pd.read_csv(\"data/stream-data/raw-stream-data/russian.csv\")\n",
    "days_below_32 = pd.read_csv(\"data/weather-data/KenaiAirport_Days-Below-32F.csv\")\n",
    "summer_mean_temps = pd.read_csv(\"data/weather-data/KenaiAirport_Summer-Mean-Temps-Yearly.csv\")\n",
    "winter_mean_temps = pd.read_csv(\"data/weather-data/KenaiAirport_Winter-Mean-Temps-Yearly.csv\")"
   ]
  },
  {
   "cell_type": "markdown",
   "source": [
    "Now that we have our data loaded and the proper modules imported, let's process the Russian\n",
    "River run datafile to parse out our target output variables (run counts) as well as gather a \n",
    "few more potential input variables (effort counts or \"angler days\")."
   ],
   "metadata": {
    "collapsed": false,
    "pycharm": {
     "name": "#%% md\n"
    }
   }
  },
  {
   "cell_type": "code",
   "execution_count": 19,
   "outputs": [
    {
     "data": {
      "text/plain": "    Year   Effort  ER Sport LR Sport  ER Local LR Local Total Run\n0   1962      ND     3,408    1,292    32,388    20,526    52,914\n1   1963    7,880    3,670    1,390    18,050    52,510    70,560\n2   1964    5,330    3,550    2,450    16,250    49,380    65,630\n3   1965    9,720   10,030    2,160    31,544    23,980    55,524\n4   1966   18,280   14,950    7,290    31,608    41,720    73,328\n5   1967   16,960    7,240    5,720    20,950    55,200    76,150\n6   1968   17,280    6,920    5,820    16,112    54,700    70,812\n7   1969   14,930    5,870    1,150    10,870    30,022    40,892\n8   1970   10,700    5,750      600    11,201    26,800    38,001\n9   1971   15,120    2,810   10,730     5,464    65,151    70,615\n10  1972   25,700    5,040   16,050    14,313    95,165   109,478\n11  1973   30,690    6,740    8,930    19,860    33,998    53,858\n12  1974   21,120    6,440    8,500    19,604    33,404    53,008\n13  1975   16,510    1,400    8,390     7,045    40,351    47,396\n14  1976   26,310    3,380   13,700    18,116    45,639    63,755\n15  1977   69,510   20,400   27,440    36,461    48,802    85,263\n16  1978   69,860   37,720   24,530    71,960    58,864   130,824\n17  1979   55,000    8,400   26,840    28,149   114,692   142,841\n18  1980   56,330   27,220   33,500    55,844   117,484   173,328\n19  1981   51,030   10,720   23,720    31,862    68,243   100,105\n20  1982   51,480   34,500   10,320    90,606    41,120   131,726\n21  1983   31,860    8,360   16,000    29,632    49,734    79,366\n22  1984   49,550   35,880   21,970    64,788   114,629   179,417\n23  1985   50,770   12,300   58,410    42,905   195,379   238,284\n24  1986   52,250   35,100   30,810    71,438    71,091   142,529\n25  1987  113,010  154,200   40,580   215,713    94,512   310,225\n26  1988   72,030   54,780   19,540   105,186    62,016   167,202\n27  1989   60,570   11,290   55,210    26,628   193,587   220,215\n28  1990   84,710   30,215   56,180    56,931   139,614   196,545\n29  1991   85,741   65,390   31,450    97,779   109,625   207,404\n30  1992   60,499   30,512   26,101    67,629    88,685   156,314\n31  1993   58,093   37,261   26,772    77,118   126,031   203,149\n32  1994   64,134   48,923   26,375    93,795   148,652   242,447\n33  1995   48,185   23,572   11,805    52,175    73,787   125,962\n34  1996   69,032   39,075   19,136    91,980    53,827   145,807\n35  1997   60,923   36,788   12,910    73,068    78,815   151,883\n36  1998   56,121   42,711   25,110    76,854   138,590   215,444\n37  1999   64,536   34,283   32,335    70,890   172,198   243,088\n38  2000   69,864   40,732   30,229    73,468    86,809   160,277\n39  2001   55,972   35,400   18,550   113,655    93,514   207,169\n40  2002   68,263   52,139   31,999   138,082    94,114   232,196\n41  2003   50,448   22,986   28,085    46,636   185,554   232,190\n42  2004   60,784   32,727   22,417    89,309   132,661   221,970\n43  2005   55,801   37,139   18,503    90,042    77,976   168,018\n44  2006   70,804   51,167   29,694   131,691   118,854   250,545\n45  2007   57,755   36,805   16,863    64,483    70,229   134,712\n46  2008   55,444   42,492   23,680    74,409    70,796   145,205\n47  2009   64,518   59,097   33,935   111,818   114,454   226,272\n48  2010   39,873   23,412    9,333    51,101    48,427    99,528\n49  2011   47,264   22,697   14,412    52,468    56,252   108,720\n50  2012   41,152   15,231   15,074    40,213    70,446   110,659\n51  2013   59,682    27,162   20,146    63,706   52,286   115,992\n52  2014   57,544    35,870   17,864    82,066   70,637   152,703\n53  2015   55,420    29,997   13,744    81,212   60,671   141,883\n54  2016   39,957    13,086   11,543    52,915   49,966   102,881\n55  2017   49,455    27,109   10,592    65,829   55,840   121,669\n56  2018   47,186    26,999   15,344    72,800   86,759   159,559",
      "text/html": "<div>\n<style scoped>\n    .dataframe tbody tr th:only-of-type {\n        vertical-align: middle;\n    }\n\n    .dataframe tbody tr th {\n        vertical-align: top;\n    }\n\n    .dataframe thead th {\n        text-align: right;\n    }\n</style>\n<table border=\"1\" class=\"dataframe\">\n  <thead>\n    <tr style=\"text-align: right;\">\n      <th></th>\n      <th>Year</th>\n      <th>Effort</th>\n      <th>ER Sport</th>\n      <th>LR Sport</th>\n      <th>ER Local</th>\n      <th>LR Local</th>\n      <th>Total Run</th>\n    </tr>\n  </thead>\n  <tbody>\n    <tr>\n      <th>0</th>\n      <td>1962</td>\n      <td>ND</td>\n      <td>3,408</td>\n      <td>1,292</td>\n      <td>32,388</td>\n      <td>20,526</td>\n      <td>52,914</td>\n    </tr>\n    <tr>\n      <th>1</th>\n      <td>1963</td>\n      <td>7,880</td>\n      <td>3,670</td>\n      <td>1,390</td>\n      <td>18,050</td>\n      <td>52,510</td>\n      <td>70,560</td>\n    </tr>\n    <tr>\n      <th>2</th>\n      <td>1964</td>\n      <td>5,330</td>\n      <td>3,550</td>\n      <td>2,450</td>\n      <td>16,250</td>\n      <td>49,380</td>\n      <td>65,630</td>\n    </tr>\n    <tr>\n      <th>3</th>\n      <td>1965</td>\n      <td>9,720</td>\n      <td>10,030</td>\n      <td>2,160</td>\n      <td>31,544</td>\n      <td>23,980</td>\n      <td>55,524</td>\n    </tr>\n    <tr>\n      <th>4</th>\n      <td>1966</td>\n      <td>18,280</td>\n      <td>14,950</td>\n      <td>7,290</td>\n      <td>31,608</td>\n      <td>41,720</td>\n      <td>73,328</td>\n    </tr>\n    <tr>\n      <th>5</th>\n      <td>1967</td>\n      <td>16,960</td>\n      <td>7,240</td>\n      <td>5,720</td>\n      <td>20,950</td>\n      <td>55,200</td>\n      <td>76,150</td>\n    </tr>\n    <tr>\n      <th>6</th>\n      <td>1968</td>\n      <td>17,280</td>\n      <td>6,920</td>\n      <td>5,820</td>\n      <td>16,112</td>\n      <td>54,700</td>\n      <td>70,812</td>\n    </tr>\n    <tr>\n      <th>7</th>\n      <td>1969</td>\n      <td>14,930</td>\n      <td>5,870</td>\n      <td>1,150</td>\n      <td>10,870</td>\n      <td>30,022</td>\n      <td>40,892</td>\n    </tr>\n    <tr>\n      <th>8</th>\n      <td>1970</td>\n      <td>10,700</td>\n      <td>5,750</td>\n      <td>600</td>\n      <td>11,201</td>\n      <td>26,800</td>\n      <td>38,001</td>\n    </tr>\n    <tr>\n      <th>9</th>\n      <td>1971</td>\n      <td>15,120</td>\n      <td>2,810</td>\n      <td>10,730</td>\n      <td>5,464</td>\n      <td>65,151</td>\n      <td>70,615</td>\n    </tr>\n    <tr>\n      <th>10</th>\n      <td>1972</td>\n      <td>25,700</td>\n      <td>5,040</td>\n      <td>16,050</td>\n      <td>14,313</td>\n      <td>95,165</td>\n      <td>109,478</td>\n    </tr>\n    <tr>\n      <th>11</th>\n      <td>1973</td>\n      <td>30,690</td>\n      <td>6,740</td>\n      <td>8,930</td>\n      <td>19,860</td>\n      <td>33,998</td>\n      <td>53,858</td>\n    </tr>\n    <tr>\n      <th>12</th>\n      <td>1974</td>\n      <td>21,120</td>\n      <td>6,440</td>\n      <td>8,500</td>\n      <td>19,604</td>\n      <td>33,404</td>\n      <td>53,008</td>\n    </tr>\n    <tr>\n      <th>13</th>\n      <td>1975</td>\n      <td>16,510</td>\n      <td>1,400</td>\n      <td>8,390</td>\n      <td>7,045</td>\n      <td>40,351</td>\n      <td>47,396</td>\n    </tr>\n    <tr>\n      <th>14</th>\n      <td>1976</td>\n      <td>26,310</td>\n      <td>3,380</td>\n      <td>13,700</td>\n      <td>18,116</td>\n      <td>45,639</td>\n      <td>63,755</td>\n    </tr>\n    <tr>\n      <th>15</th>\n      <td>1977</td>\n      <td>69,510</td>\n      <td>20,400</td>\n      <td>27,440</td>\n      <td>36,461</td>\n      <td>48,802</td>\n      <td>85,263</td>\n    </tr>\n    <tr>\n      <th>16</th>\n      <td>1978</td>\n      <td>69,860</td>\n      <td>37,720</td>\n      <td>24,530</td>\n      <td>71,960</td>\n      <td>58,864</td>\n      <td>130,824</td>\n    </tr>\n    <tr>\n      <th>17</th>\n      <td>1979</td>\n      <td>55,000</td>\n      <td>8,400</td>\n      <td>26,840</td>\n      <td>28,149</td>\n      <td>114,692</td>\n      <td>142,841</td>\n    </tr>\n    <tr>\n      <th>18</th>\n      <td>1980</td>\n      <td>56,330</td>\n      <td>27,220</td>\n      <td>33,500</td>\n      <td>55,844</td>\n      <td>117,484</td>\n      <td>173,328</td>\n    </tr>\n    <tr>\n      <th>19</th>\n      <td>1981</td>\n      <td>51,030</td>\n      <td>10,720</td>\n      <td>23,720</td>\n      <td>31,862</td>\n      <td>68,243</td>\n      <td>100,105</td>\n    </tr>\n    <tr>\n      <th>20</th>\n      <td>1982</td>\n      <td>51,480</td>\n      <td>34,500</td>\n      <td>10,320</td>\n      <td>90,606</td>\n      <td>41,120</td>\n      <td>131,726</td>\n    </tr>\n    <tr>\n      <th>21</th>\n      <td>1983</td>\n      <td>31,860</td>\n      <td>8,360</td>\n      <td>16,000</td>\n      <td>29,632</td>\n      <td>49,734</td>\n      <td>79,366</td>\n    </tr>\n    <tr>\n      <th>22</th>\n      <td>1984</td>\n      <td>49,550</td>\n      <td>35,880</td>\n      <td>21,970</td>\n      <td>64,788</td>\n      <td>114,629</td>\n      <td>179,417</td>\n    </tr>\n    <tr>\n      <th>23</th>\n      <td>1985</td>\n      <td>50,770</td>\n      <td>12,300</td>\n      <td>58,410</td>\n      <td>42,905</td>\n      <td>195,379</td>\n      <td>238,284</td>\n    </tr>\n    <tr>\n      <th>24</th>\n      <td>1986</td>\n      <td>52,250</td>\n      <td>35,100</td>\n      <td>30,810</td>\n      <td>71,438</td>\n      <td>71,091</td>\n      <td>142,529</td>\n    </tr>\n    <tr>\n      <th>25</th>\n      <td>1987</td>\n      <td>113,010</td>\n      <td>154,200</td>\n      <td>40,580</td>\n      <td>215,713</td>\n      <td>94,512</td>\n      <td>310,225</td>\n    </tr>\n    <tr>\n      <th>26</th>\n      <td>1988</td>\n      <td>72,030</td>\n      <td>54,780</td>\n      <td>19,540</td>\n      <td>105,186</td>\n      <td>62,016</td>\n      <td>167,202</td>\n    </tr>\n    <tr>\n      <th>27</th>\n      <td>1989</td>\n      <td>60,570</td>\n      <td>11,290</td>\n      <td>55,210</td>\n      <td>26,628</td>\n      <td>193,587</td>\n      <td>220,215</td>\n    </tr>\n    <tr>\n      <th>28</th>\n      <td>1990</td>\n      <td>84,710</td>\n      <td>30,215</td>\n      <td>56,180</td>\n      <td>56,931</td>\n      <td>139,614</td>\n      <td>196,545</td>\n    </tr>\n    <tr>\n      <th>29</th>\n      <td>1991</td>\n      <td>85,741</td>\n      <td>65,390</td>\n      <td>31,450</td>\n      <td>97,779</td>\n      <td>109,625</td>\n      <td>207,404</td>\n    </tr>\n    <tr>\n      <th>30</th>\n      <td>1992</td>\n      <td>60,499</td>\n      <td>30,512</td>\n      <td>26,101</td>\n      <td>67,629</td>\n      <td>88,685</td>\n      <td>156,314</td>\n    </tr>\n    <tr>\n      <th>31</th>\n      <td>1993</td>\n      <td>58,093</td>\n      <td>37,261</td>\n      <td>26,772</td>\n      <td>77,118</td>\n      <td>126,031</td>\n      <td>203,149</td>\n    </tr>\n    <tr>\n      <th>32</th>\n      <td>1994</td>\n      <td>64,134</td>\n      <td>48,923</td>\n      <td>26,375</td>\n      <td>93,795</td>\n      <td>148,652</td>\n      <td>242,447</td>\n    </tr>\n    <tr>\n      <th>33</th>\n      <td>1995</td>\n      <td>48,185</td>\n      <td>23,572</td>\n      <td>11,805</td>\n      <td>52,175</td>\n      <td>73,787</td>\n      <td>125,962</td>\n    </tr>\n    <tr>\n      <th>34</th>\n      <td>1996</td>\n      <td>69,032</td>\n      <td>39,075</td>\n      <td>19,136</td>\n      <td>91,980</td>\n      <td>53,827</td>\n      <td>145,807</td>\n    </tr>\n    <tr>\n      <th>35</th>\n      <td>1997</td>\n      <td>60,923</td>\n      <td>36,788</td>\n      <td>12,910</td>\n      <td>73,068</td>\n      <td>78,815</td>\n      <td>151,883</td>\n    </tr>\n    <tr>\n      <th>36</th>\n      <td>1998</td>\n      <td>56,121</td>\n      <td>42,711</td>\n      <td>25,110</td>\n      <td>76,854</td>\n      <td>138,590</td>\n      <td>215,444</td>\n    </tr>\n    <tr>\n      <th>37</th>\n      <td>1999</td>\n      <td>64,536</td>\n      <td>34,283</td>\n      <td>32,335</td>\n      <td>70,890</td>\n      <td>172,198</td>\n      <td>243,088</td>\n    </tr>\n    <tr>\n      <th>38</th>\n      <td>2000</td>\n      <td>69,864</td>\n      <td>40,732</td>\n      <td>30,229</td>\n      <td>73,468</td>\n      <td>86,809</td>\n      <td>160,277</td>\n    </tr>\n    <tr>\n      <th>39</th>\n      <td>2001</td>\n      <td>55,972</td>\n      <td>35,400</td>\n      <td>18,550</td>\n      <td>113,655</td>\n      <td>93,514</td>\n      <td>207,169</td>\n    </tr>\n    <tr>\n      <th>40</th>\n      <td>2002</td>\n      <td>68,263</td>\n      <td>52,139</td>\n      <td>31,999</td>\n      <td>138,082</td>\n      <td>94,114</td>\n      <td>232,196</td>\n    </tr>\n    <tr>\n      <th>41</th>\n      <td>2003</td>\n      <td>50,448</td>\n      <td>22,986</td>\n      <td>28,085</td>\n      <td>46,636</td>\n      <td>185,554</td>\n      <td>232,190</td>\n    </tr>\n    <tr>\n      <th>42</th>\n      <td>2004</td>\n      <td>60,784</td>\n      <td>32,727</td>\n      <td>22,417</td>\n      <td>89,309</td>\n      <td>132,661</td>\n      <td>221,970</td>\n    </tr>\n    <tr>\n      <th>43</th>\n      <td>2005</td>\n      <td>55,801</td>\n      <td>37,139</td>\n      <td>18,503</td>\n      <td>90,042</td>\n      <td>77,976</td>\n      <td>168,018</td>\n    </tr>\n    <tr>\n      <th>44</th>\n      <td>2006</td>\n      <td>70,804</td>\n      <td>51,167</td>\n      <td>29,694</td>\n      <td>131,691</td>\n      <td>118,854</td>\n      <td>250,545</td>\n    </tr>\n    <tr>\n      <th>45</th>\n      <td>2007</td>\n      <td>57,755</td>\n      <td>36,805</td>\n      <td>16,863</td>\n      <td>64,483</td>\n      <td>70,229</td>\n      <td>134,712</td>\n    </tr>\n    <tr>\n      <th>46</th>\n      <td>2008</td>\n      <td>55,444</td>\n      <td>42,492</td>\n      <td>23,680</td>\n      <td>74,409</td>\n      <td>70,796</td>\n      <td>145,205</td>\n    </tr>\n    <tr>\n      <th>47</th>\n      <td>2009</td>\n      <td>64,518</td>\n      <td>59,097</td>\n      <td>33,935</td>\n      <td>111,818</td>\n      <td>114,454</td>\n      <td>226,272</td>\n    </tr>\n    <tr>\n      <th>48</th>\n      <td>2010</td>\n      <td>39,873</td>\n      <td>23,412</td>\n      <td>9,333</td>\n      <td>51,101</td>\n      <td>48,427</td>\n      <td>99,528</td>\n    </tr>\n    <tr>\n      <th>49</th>\n      <td>2011</td>\n      <td>47,264</td>\n      <td>22,697</td>\n      <td>14,412</td>\n      <td>52,468</td>\n      <td>56,252</td>\n      <td>108,720</td>\n    </tr>\n    <tr>\n      <th>50</th>\n      <td>2012</td>\n      <td>41,152</td>\n      <td>15,231</td>\n      <td>15,074</td>\n      <td>40,213</td>\n      <td>70,446</td>\n      <td>110,659</td>\n    </tr>\n    <tr>\n      <th>51</th>\n      <td>2013</td>\n      <td>59,682</td>\n      <td>27,162</td>\n      <td>20,146</td>\n      <td>63,706</td>\n      <td>52,286</td>\n      <td>115,992</td>\n    </tr>\n    <tr>\n      <th>52</th>\n      <td>2014</td>\n      <td>57,544</td>\n      <td>35,870</td>\n      <td>17,864</td>\n      <td>82,066</td>\n      <td>70,637</td>\n      <td>152,703</td>\n    </tr>\n    <tr>\n      <th>53</th>\n      <td>2015</td>\n      <td>55,420</td>\n      <td>29,997</td>\n      <td>13,744</td>\n      <td>81,212</td>\n      <td>60,671</td>\n      <td>141,883</td>\n    </tr>\n    <tr>\n      <th>54</th>\n      <td>2016</td>\n      <td>39,957</td>\n      <td>13,086</td>\n      <td>11,543</td>\n      <td>52,915</td>\n      <td>49,966</td>\n      <td>102,881</td>\n    </tr>\n    <tr>\n      <th>55</th>\n      <td>2017</td>\n      <td>49,455</td>\n      <td>27,109</td>\n      <td>10,592</td>\n      <td>65,829</td>\n      <td>55,840</td>\n      <td>121,669</td>\n    </tr>\n    <tr>\n      <th>56</th>\n      <td>2018</td>\n      <td>47,186</td>\n      <td>26,999</td>\n      <td>15,344</td>\n      <td>72,800</td>\n      <td>86,759</td>\n      <td>159,559</td>\n    </tr>\n  </tbody>\n</table>\n</div>"
     },
     "metadata": {},
     "output_type": "execute_result",
     "execution_count": 19
    }
   ],
   "source": [
    "drop_columns = ['ER  Escapement', 'LR Escapement', 'ER', 'LR']\n",
    "run_data.drop(columns=drop_columns, inplace=True)\n",
    "run_data"
   ],
   "metadata": {
    "collapsed": false,
    "pycharm": {
     "name": "#%%\n",
     "is_executing": false
    }
   }
  }
 ],
 "metadata": {
  "kernelspec": {
   "name": "pycharm-924b1630",
   "language": "python",
   "display_name": "PyCharm (RuncastJupyter)"
  },
  "language_info": {
   "codemirror_mode": {
    "name": "ipython",
    "version": 2
   },
   "file_extension": ".py",
   "mimetype": "text/x-python",
   "name": "python",
   "nbconvert_exporter": "python",
   "pygments_lexer": "ipython2",
   "version": "2.7.6"
  },
  "pycharm": {
   "stem_cell": {
    "cell_type": "raw",
    "source": [],
    "metadata": {
     "collapsed": false
    }
   }
  }
 },
 "nbformat": 4,
 "nbformat_minor": 0
}