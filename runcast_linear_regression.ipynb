{
 "cells": [
  {
   "cell_type": "code",
   "execution_count": 1,
   "metadata": {
    "collapsed": true,
    "pycharm": {
     "is_executing": false
    }
   },
   "outputs": [],
   "source": [
    "import numpy as np\n",
    "import pandas as pd\n",
    "from matplotlib import pyplot as plt\n",
    "from sklearn.model_selection import train_test_split, cross_val_score\n",
    "from sklearn.linear_model import LinearRegression, Ridge, Lasso\n",
    "\n",
    "# Loading results dataframes for use in linear regression modeling\n",
    "run_data = pd.read_csv(\"data/stream-data/raw-stream-data/russian.csv\")\n",
    "days_below_32 = pd.read_csv(\"data/weather-data/KenaiAirport_Days-Below-32F.csv\")\n",
    "summer_mean_temps = pd.read_csv(\"data/weather-data/KenaiAirport_Summer-Mean-Temps-Yearly.csv\")\n",
    "winter_mean_temps = pd.read_csv(\"data/weather-data/KenaiAirport_Winter-Mean-Temps-Yearly.csv\")\n"
   ]
  }
 ],
 "metadata": {
  "kernelspec": {
   "name": "pycharm-924b1630",
   "language": "python",
   "display_name": "PyCharm (RuncastJupyter)"
  },
  "language_info": {
   "codemirror_mode": {
    "name": "ipython",
    "version": 2
   },
   "file_extension": ".py",
   "mimetype": "text/x-python",
   "name": "python",
   "nbconvert_exporter": "python",
   "pygments_lexer": "ipython2",
   "version": "2.7.6"
  },
  "pycharm": {
   "stem_cell": {
    "cell_type": "raw",
    "source": [],
    "metadata": {
     "collapsed": false
    }
   }
  }
 },
 "nbformat": 4,
 "nbformat_minor": 0
}