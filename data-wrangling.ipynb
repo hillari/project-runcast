{
 "cells": [
  {
   "cell_type": "code",
   "execution_count": 1,
   "metadata": {
    "collapsed": true
   },
   "outputs": [],
   "source": [
    "import pandas as pd\n",
    "import numpy as np\n"
   ]
  },
  {
   "cell_type": "code",
   "execution_count": 43,
   "outputs": [],
   "source": [
    "# ---- Streamflow for KR Cooper Landing ----\n",
    "\n",
    "cooperdfRAW = pd.read_csv(\"data/stream-data/raw-stream-data/peak-CooperLanding-15258000\", sep='\\t', lineterminator='\\n')\n",
    "cooperdf = cooperdfRAW.drop(['agency_cd', 'site_no', 'peak_tm', 'peak_cd', 'gage_ht_cd', 'year_last_pk',\n",
    "                          'ag_dt', 'ag_tm', 'ag_gage_ht', 'ag_gage_ht_cd\\r'], axis=1)\n",
    "new_col_names = ['date', 'CFS', 'gage_height']\n",
    "cooperdf.rename(columns=dict(zip(cooperdf.columns, new_col_names)), inplace=True)\n",
    "cooperdf['date'] = pd.to_datetime(cooperdf['date'])\n",
    "# cooperdf['year-month'] = cooperdf['date'].dt.to_period('M')  # create column with yyyy-mm\n",
    "cooperdf['year'] = cooperdf['date'].dt.year\n",
    "\n",
    "# years with more than 1 entry:\n",
    "# 1949, 1957, 1961, 1969, 1984, 1990, 1998, 2002, 2005, 2009, 2013\n",
    "# For duplicate years, get average of duplicate values\n",
    "years = cooperdf['year'].value_counts()\n"
   ],
   "metadata": {
    "collapsed": false,
    "pycharm": {
     "name": "#%%\n"
    }
   }
  },
  {
   "cell_type": "code",
   "execution_count": 61,
   "outputs": [],
   "source": [
    "avgCFS = cooperdfRAW['peak_va'].mean()\n",
    "avgGage = cooperdfRAW['gage_ht'].mean()"
   ],
   "metadata": {
    "collapsed": false,
    "pycharm": {
     "name": "#%%\n"
    }
   }
  },
  {
   "cell_type": "code",
   "execution_count": 44,
   "outputs": [],
   "source": [
    "cooperdf.to_csv(\"data/stream-data/streamflow-CooperLanding.csv\")"
   ],
   "metadata": {
    "collapsed": false,
    "pycharm": {
     "name": "#%%\n"
    }
   }
  },
  {
   "cell_type": "code",
   "execution_count": 58,
   "outputs": [
    {
     "name": "stderr",
     "output_type": "stream",
     "text": [
      "<ipython-input-58-e08d2da1cf28>:8: SettingWithCopyWarning: \n",
      "A value is trying to be set on a copy of a slice from a DataFrame.\n",
      "Try using .loc[row_indexer,col_indexer] = value instead\n",
      "\n",
      "See the caveats in the documentation: https://pandas.pydata.org/pandas-docs/stable/user_guide/indexing.html#returning-a-view-versus-a-copy\n",
      "  soldotnadf['date'] = pd.to_datetime(soldotnadf['date'])  # SettingWithCopyWarning\n",
      "<ipython-input-58-e08d2da1cf28>:9: SettingWithCopyWarning: \n",
      "A value is trying to be set on a copy of a slice from a DataFrame.\n",
      "Try using .loc[row_indexer,col_indexer] = value instead\n",
      "\n",
      "See the caveats in the documentation: https://pandas.pydata.org/pandas-docs/stable/user_guide/indexing.html#returning-a-view-versus-a-copy\n",
      "  soldotnadf['year'] = soldotnadf['date'].dt.year\n"
     ]
    },
    {
     "data": {
      "text/plain": "2019    1\n1978    1\n1989    1\n1988    1\n1987    1\n1986    1\n1985    1\n1984    1\n1983    1\n1982    1\n1981    1\n1980    1\n1979    1\n1977    1\n1991    1\n1976    1\n1975    1\n1974    1\n1973    1\n1972    1\n1971    1\n1970    1\n1969    1\n1968    1\n1967    1\n1966    1\n1990    1\n1992    1\n2018    1\n2006    1\n2017    1\n2016    1\n2015    1\n2014    1\n2013    1\n2012    1\n2011    1\n2010    1\n2009    1\n2008    1\n2007    1\n2005    1\n1993    1\n2004    1\n2003    1\n2002    1\n2001    1\n2000    1\n1999    1\n1998    1\n1997    1\n1996    1\n1995    1\n1994    1\n1965    1\nName: year, dtype: int64"
     },
     "execution_count": 58,
     "metadata": {},
     "output_type": "execute_result"
    }
   ],
   "source": [
    "# ---- Streamflow for KR Soldotna ----\n",
    "#   (with a different renaming method)\n",
    "\n",
    "soldotnadfRAW = pd.read_csv(\"data/stream-data/raw-stream-data/peak-KRSoldotna-15266300\", sep='\\t', lineterminator='\\n')\n",
    "columns_keep = ['peak_dt', 'peak_va', 'gage_ht']\n",
    "soldotnadf = soldotnadfRAW[columns_keep]\n",
    "soldotnadf.columns=['date', 'CFS', 'gage_height']\n",
    "soldotnadf['date'] = pd.to_datetime(soldotnadf['date'])  # SettingWithCopyWarning\n",
    "soldotnadf['year'] = soldotnadf['date'].dt.year\n",
    "years = soldotnadf['year'].value_counts()\n",
    "years"
   ],
   "metadata": {
    "collapsed": false,
    "pycharm": {
     "name": "#%%\n"
    }
   }
  },
  {
   "cell_type": "code",
   "execution_count": 56,
   "outputs": [
    {
     "data": {
      "text/plain": "19615.76923076923"
     },
     "execution_count": 56,
     "metadata": {},
     "output_type": "execute_result"
    }
   ],
   "source": [
    "# Get the average values to impute missing years\n",
    "# need this for gage and CFS\n",
    "avg = soldotnadfRAW['peak_va'].mean()\n",
    "avg"
   ],
   "metadata": {
    "collapsed": false,
    "pycharm": {
     "name": "#%%\n"
    }
   }
  },
  {
   "cell_type": "code",
   "execution_count": 59,
   "outputs": [],
   "source": [
    "soldotnadf.to_csv(\"data/stream-data/streamflow-Soldotna.csv\")\n"
   ],
   "metadata": {
    "collapsed": false,
    "pycharm": {
     "name": "#%%\n"
    }
   }
  }
 ],
 "metadata": {
  "kernelspec": {
   "name": "pycharm-c25f9b63",
   "language": "python",
   "display_name": "PyCharm (project-runcast)"
  },
  "language_info": {
   "codemirror_mode": {
    "name": "ipython",
    "version": 2
   },
   "file_extension": ".py",
   "mimetype": "text/x-python",
   "name": "python",
   "nbconvert_exporter": "python",
   "pygments_lexer": "ipython2",
   "version": "2.7.6"
  }
 },
 "nbformat": 4,
 "nbformat_minor": 0
}