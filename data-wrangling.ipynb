{
 "cells": [
  {
   "cell_type": "code",
   "execution_count": 3,
   "metadata": {
    "collapsed": true,
    "pycharm": {
     "is_executing": false
    }
   },
   "outputs": [],
   "source": [
    "import pandas as pd\n"
   ]
  },
  {
   "cell_type": "code",
   "execution_count": 18,
   "outputs": [],
   "source": [
    "# ---- Streamflow for KR Cooper Landing ----\n",
    "\n",
    "cooperdfRAW = pd.read_csv(\"data/stream-data/raw-stream-data/peak-CooperLanding-15258000\", sep='\\t', lineterminator='\\n')\n",
    "cooperdf = cooperdfRAW.drop(['agency_cd', 'site_no', 'peak_tm', 'peak_cd', 'gage_ht_cd', 'year_last_pk', \n",
    "                          'ag_dt', 'ag_tm', 'ag_gage_ht', 'ag_gage_ht_cr\\r'], axis=1)\n",
    "new_col_names = ['date', 'CFS', 'gage_height']\n",
    "cooperdf.rename(columns=dict(zip(cooperdf.columns, new_col_names)), inplace=True)\n",
    "cooperdf['date'] = pd.to_datetime(cooperdf['date'])\n"
   ],
   "metadata": {
    "collapsed": false,
    "pycharm": {
     "name": "#%%\n",
     "is_executing": false
    }
   }
  },
  {
   "cell_type": "code",
   "execution_count": 6,
   "outputs": [],
   "source": [
    "cooperdf.to_csv(\"data/stream-data/streamflow-CooperLanding.csv\")"
   ],
   "metadata": {
    "collapsed": false,
    "pycharm": {
     "name": "#%%\n",
     "is_executing": false
    }
   }
  },
  {
   "cell_type": "code",
   "execution_count": 17,
   "outputs": [],
   "source": [
    "# ---- Streamflow for KR Soldotna ----\n",
    "#   (with a different renaming method)\n",
    "\n",
    "soldotnadfRAW = pd.read_csv(\"data/stream-data/raw-stream-data/peak-KRSoldotna-15266300\", sep='\\t', lineterminator='\\n')\n",
    "columns_keep = ['peak_dt', 'peak_va', 'gage_ht']\n",
    "soldotnadf = soldotnadfRAW[columns_keep]\n",
    "soldotnadf.columns=['date', 'CFS', 'gage_height']\n",
    "# soldotnadf['date'] = pd.to_datetime(soldotnadf['date'])  # SettingWithCopyWarning\n",
    "\n"
   ],
   "metadata": {
    "collapsed": false,
    "pycharm": {
     "name": "#%%\n",
     "is_executing": false
    }
   }
  },
  {
   "cell_type": "code",
   "execution_count": 19,
   "outputs": [],
   "source": [
    "soldotnadf.to_csv(\"data/stream-data/streamflow-Soldotna.csv\")\n"
   ],
   "metadata": {
    "collapsed": false,
    "pycharm": {
     "name": "#%%\n",
     "is_executing": false
    }
   }
  }
 ],
 "metadata": {
  "kernelspec": {
   "name": "pycharm-c25f9b63",
   "language": "python",
   "display_name": "PyCharm (project-runcast)"
  },
  "language_info": {
   "codemirror_mode": {
    "name": "ipython",
    "version": 2
   },
   "file_extension": ".py",
   "mimetype": "text/x-python",
   "name": "python",
   "nbconvert_exporter": "python",
   "pygments_lexer": "ipython2",
   "version": "2.7.6"
  },
  "pycharm": {
   "stem_cell": {
    "cell_type": "raw",
    "source": [],
    "metadata": {
     "collapsed": false
    }
   }
  }
 },
 "nbformat": 4,
 "nbformat_minor": 0
}